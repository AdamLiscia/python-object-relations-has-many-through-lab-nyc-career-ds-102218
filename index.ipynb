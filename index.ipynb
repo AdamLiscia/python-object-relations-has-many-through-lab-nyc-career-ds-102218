{
 "cells": [
  {
   "cell_type": "markdown",
   "metadata": {},
   "source": [
    "# Python Object Relationships - Has Many Through Lab\n",
    "Start off with a Driver has many passengers \n",
    "then talk about okay, but also a passenger doesnt only get driven by one driver so they must also have more than one driver\n",
    "this means that a driver has many passengers and a passenger has many drivers\n",
    "this doesnt work because we can't decide which instance should own the responsibility of keeping track of the other\n",
    "think about what these two have in common - trips\n",
    "both have many trips and trips only have one passenger (in this case) and one driver "
   ]
  },
  {
   "cell_type": "markdown",
   "metadata": {},
   "source": [
    "## Introduction\n",
    "In this lab we are going to work on creating a **has many through** relationship. Until this point, our relationships have been pretty straight forward. But what if we are dealing with a relationship where both classes could have many of the other class. For example, we could talk about a `Doctor` and a `Patient`. We know just about everyone has more than one doctor, or they could potentially. We have eye doctors, teeth doctors (otherwise known as dentists), general practitioners (doctor you see for regular checkups), and so on. And doctors will have more than one patient if they want to have a thriving practice. Since this is **many to many** relationship, we have to add in a third class. Dun dun dun! Don't worry -- we'll figure this out together. \n",
    "\n",
    "Let's ask ourselves what doctors and patients have in common. They both are usually running late? Well yes, but it doesn't seem like that would help explain their connection. What about they both have an appointment? Let's say we have doctor Danielle and patient Patrick. Doctor Danielle **has one** appointment with a patient Patrick and patient Patrick also **has one** appointment with doctor Danielle. We can also say that this appointment **belongs to** both a the doctor and the patient. This sounds like the right connection! Pretty neat, right? Let's get started translating something like this into code."
   ]
  },
  {
   "cell_type": "markdown",
   "metadata": {},
   "source": [
    "## Objectives\n",
    "* ONE\n",
    "* TWO \n",
    "* THREE"
   ]
  },
  {
   "cell_type": "markdown",
   "metadata": {},
   "source": [
    "## Defining Our Classes\n",
    "In this lab, we will be working with a `Driver` class, a `Passenger` class, and a `Trip` class. The relationship between these should be such that a driver has many passengers through trips and a passenger has many drivers through trips. A trip belongs to one driver and belongs to one passenger. \n",
    "* a driver should have a `name` and a `driving_style` attribute, which should both have setters and getters\n",
    "* a passenger should have a `name` and an `age`\n",
    "* a trip should have a `driver`, and a `passenger`"
   ]
  },
  {
   "cell_type": "markdown",
   "metadata": {},
   "source": [
    "## Querying For Our Cars"
   ]
  },
  {
   "cell_type": "markdown",
   "metadata": {},
   "source": [
    "## Summary\n"
   ]
  }
 ],
 "metadata": {
  "kernelspec": {
   "display_name": "Python 3",
   "language": "python",
   "name": "python3"
  },
  "language_info": {
   "codemirror_mode": {
    "name": "ipython",
    "version": 3
   },
   "file_extension": ".py",
   "mimetype": "text/x-python",
   "name": "python",
   "nbconvert_exporter": "python",
   "pygments_lexer": "ipython3",
   "version": "3.6.5"
  }
 },
 "nbformat": 4,
 "nbformat_minor": 2
}
